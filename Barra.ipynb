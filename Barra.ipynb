from matplotlib import pyplot as plt

#usar duas listas de dados

anos = [1950, 1960, 1970, 1980, 1990, 2000, 2010, 2020]

bares = [10, 20, 50, 100, 90, 150, 200, 210]

#Criar um gráfico de bloco

plt.bar(range(len(bares)), bares)

#titulo

plt.title("Crescimento de Bares")

#nome do eixo y

plt.ylabel("Bares")

#colocar nomes dos anos centralizados no bloco

plt.xticks(range(len(anos)), anos)
           
plt.show()
