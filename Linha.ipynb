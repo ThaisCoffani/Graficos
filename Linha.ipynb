from matplotlib import pyplot as plt

#usar duas listas de dados

anos = [1950, 1960, 1970, 1980, 1990, 2000, 2010, 2020]

bares = [10, 20, 50, 100, 90, 150, 200, 210]

#Criar um gráfico de linha

plt.plot(anos, bares, color='red', marker='o', linestyle='solid')

#titulo

plt.title("Crescimento de Bares")

#nome do eixo y

plt.ylabel("bares")

plt.show()
